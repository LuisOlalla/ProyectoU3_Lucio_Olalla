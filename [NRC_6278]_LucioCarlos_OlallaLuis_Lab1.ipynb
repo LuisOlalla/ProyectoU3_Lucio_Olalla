{
 "cells": [
  {
   "cell_type": "markdown",
   "id": "8b6f603c",
   "metadata": {
    "id": "8b6f603c"
   },
   "source": [
    "<center><h1>Modelamiento - Identificación de Usuario</header1></center>"
   ]
  },
  {
   "cell_type": "markdown",
   "id": "3eb1aaac",
   "metadata": {
    "id": "3eb1aaac"
   },
   "source": [
    "Presentado por: Carlos Lucio, Luis Olalla  <br>\n",
    "Fecha: 12/08/2022"
   ]
  },
  {
   "cell_type": "markdown",
   "id": "1dec299b",
   "metadata": {
    "ExecuteTime": {
     "end_time": "2022-03-14T15:14:04.930713Z",
     "start_time": "2022-03-14T15:14:04.921682Z"
    },
    "id": "1dec299b"
   },
   "source": [
    "# Importación de librerias necesarias"
   ]
  },
  {
   "cell_type": "code",
   "execution_count": 10,
   "id": "6d1abf7a",
   "metadata": {
    "ExecuteTime": {
     "end_time": "2022-03-14T15:14:46.228059Z",
     "start_time": "2022-03-14T15:14:46.223108Z"
    },
    "id": "6d1abf7a"
   },
   "outputs": [],
   "source": [
    "#Para esta actividad se importarán las siguientes librerías:\n",
    "\n",
    "#importar libreria opencv para procesar las imágenes\n",
    "import cv2\n",
    "#libreria de cálculos numéricos\n",
    "import numpy as np\n",
    "#libreria dependiente de sistema operativo\n",
    "import os\n",
    "os.environ['TF_CPP_MIN_LOG_LEVEL'] = '3' \n",
    "#Libreria de coleccion de archivos\n",
    "import shutil\n",
    "#libreria para devolver rutas de archivos\n",
    "import glob\n",
    "#Libreria pandas para analisis de datos\n",
    "import pandas as pd\n",
    "#Libreria para graficar los datos\n",
    "import matplotlib.pyplot as plt\n",
    "#Libreria seaborn para distribuciones aleatorias\n",
    "import seaborn as sn\n",
    "#Libreria  de código abierto para aprendizaje automático \n",
    "from tensorflow.keras.utils import img_to_array,  array_to_img, img_to_array, load_img\n",
    "#Libreria de redes neuronales para generar imagen\n",
    "from keras.preprocessing.image import ImageDataGenerator\n",
    "#Libreria que permite editar imagenes\n",
    "from  PIL  import Image\n",
    "#Libreria para remover el fondo\n",
    "from rembg import remove\n",
    "#Libreria de tecnicas de aprendizaje automatico\n",
    "from sklearn.preprocessing import MinMaxScaler\n",
    "#Libreria que permite almacenar datos binarios\n",
    "import h5py\n",
    "#Libreria que permite retrasar la ejecucion\n",
    "from time import sleep\n",
    "#importar libreria pathlib\n",
    "import pathlib\n",
    "#libreria TF\n",
    "import tensorflow as TF\n"
   ]
  },
  {
   "cell_type": "markdown",
   "id": "43cdcac2",
   "metadata": {},
   "source": [
    "## Cargar dataset"
   ]
  },
  {
   "cell_type": "code",
   "execution_count": 11,
   "id": "77950d44",
   "metadata": {},
   "outputs": [
    {
     "name": "stdout",
     "output_type": "stream",
     "text": [
      "Found 15 files belonging to 5 classes.\n"
     ]
    }
   ],
   "source": [
    "#Código para cargar el Dataset\n",
    "direccion = pathlib.Path(r\"C:\\Users\\Usuario\\Documents\\SEXTO\\ASIGNATURAS\\INTELIGENCIA ARTIFICIAL\\TERCER PARCIAL\\ProyectoIA\\Dataset\") #Direccion de la ruta principal\n",
    "tamanio_lote = 16 #tamanio del lote\n",
    "img_alto = 32 #alto de la imagen\n",
    "img_ancho = 32 #ancho de la i\n",
    "dsFotos = TF.keras.preprocessing.image_dataset_from_directory(\n",
    "    direccion,label_mode=\"categorical\")"
   ]
  },
  {
   "cell_type": "markdown",
   "id": "6a44b924",
   "metadata": {
    "id": "6a44b924"
   },
   "source": [
    "## Listar las clases del dataset"
   ]
  },
  {
   "cell_type": "code",
   "execution_count": 12,
   "id": "3541e808",
   "metadata": {
    "id": "3541e808"
   },
   "outputs": [
    {
     "name": "stdout",
     "output_type": "stream",
     "text": [
      "['CevallosJoan', 'Jhon Zambrano', 'LucioCarlos', 'OlallaLuis', 'RivasSelena']\n"
     ]
    }
   ],
   "source": [
    "#Código para cargar el Dataset\n",
    "#Ruta del dataset de las imagenes principales\n",
    "images_path = \"./Dataset\"\n",
    "#cargar la ruta del dataset\n",
    "class_names = os.listdir(images_path)\n",
    "#Ordenar los nombres de las clases\n",
    "class_names.sort()\n",
    "#imprimir los nombres de las clases\n",
    "print(class_names)"
   ]
  },
  {
   "cell_type": "code",
   "execution_count": 13,
   "id": "88efb69f",
   "metadata": {},
   "outputs": [
    {
     "name": "stdout",
     "output_type": "stream",
     "text": [
      "Copying Image - L00376416_1.jpg in Dataset/CevallosJoan\n",
      "Copying Image - L00376416_2.jpg in Dataset/CevallosJoan\n",
      "Copying Image - L00376416_3.jpg in Dataset/CevallosJoan\n",
      "Copying Image - L00392993_Centro.jpg in Dataset/Jhon Zambrano\n",
      "Copying Image - L00392993_LD.jpg in Dataset/Jhon Zambrano\n",
      "Copying Image - L00392993_LI.jpg in Dataset/Jhon Zambrano\n",
      "Copying Image - L00393009_1.jpg in Dataset/LucioCarlos\n",
      "Copying Image - L00393009_2.jpg in Dataset/LucioCarlos\n",
      "Copying Image - L00393009_3.jpg in Dataset/LucioCarlos\n",
      "Copying Image - L00393001_1.jpg in Dataset/OlallaLuis\n",
      "Copying Image - L00393001_2.jpg in Dataset/OlallaLuis\n",
      "Copying Image - L00393001_3.jpg in Dataset/OlallaLuis\n",
      "Copying Image - L00376689_1.jpg in Dataset/RivasSelena\n",
      "Copying Image - L00376689_2.jpg in Dataset/RivasSelena\n",
      "Copying Image - L00376689_3.jpg in Dataset/RivasSelena\n"
     ]
    }
   ],
   "source": [
    "#for para recorrer el nombre de la clase\n",
    "for class_name in class_names:\n",
    "    #Seleccionar la ruta y el nombre de la clase\n",
    "    cur_path = images_path + \"/\" + class_name\n",
    "    #listar los elementos en la ruta actual\n",
    "    elements = os.listdir(cur_path)\n",
    "    \n",
    "    #For para recorrer a los elementos \n",
    "    for element in elements:\n",
    "        #Copiar las imagenes del dataset\n",
    "        print(\"Copying Image - {} in Dataset/{}\".format(element, class_name))\n",
    "        #Especificar el origen de las iamgenes\n",
    "        src = os.path.join(images_path + \"/\" + class_name, element) # origen\n",
    "        #Destino de las imagenes copiadas\n",
    "        dst = os.path.join(\"./Dataset_Aumentado/\" + class_name, element) \n",
    "        #coleccionar cada archivo\n",
    "        shutil.copy(src, dst)"
   ]
  },
  {
   "cell_type": "markdown",
   "id": "cb6093ad",
   "metadata": {},
   "source": [
    "# **Aumento de datos**"
   ]
  },
  {
   "cell_type": "code",
   "execution_count": 14,
   "id": "f23ffdca",
   "metadata": {},
   "outputs": [],
   "source": [
    "#Generador de aumento de imagenes\n",
    "datagen = ImageDataGenerator(\n",
    "    #rotacion del rango de imagen\n",
    "        rotation_range=40,\n",
    "    #Desplazamiento ancho de rango\n",
    "        width_shift_range=0.2,\n",
    "    #Rango desplazamiento altura\n",
    "        height_shift_range=0.2,\n",
    "    #Reescalar\n",
    "        rescale=1./255,\n",
    "    #Rango de corte\n",
    "        shear_range=0.2,\n",
    "    #Rango de enfoque\n",
    "        zoom_range=0.4,\n",
    "    #Volteo horizontal\n",
    "        horizontal_flip=True,\n",
    "    #Modo de llenado\n",
    "        fill_mode='nearest')"
   ]
  },
  {
   "cell_type": "markdown",
   "id": "17e7c451",
   "metadata": {},
   "source": [
    "**CLASE CEVALLOS JOAN**"
   ]
  },
  {
   "cell_type": "code",
   "execution_count": 15,
   "id": "072ee6d5",
   "metadata": {},
   "outputs": [],
   "source": [
    "#Ruta de la clase Joan Cevallos\n",
    "os.chdir(r\"C:\\Users\\Usuario\\Documents\\SEXTO\\ASIGNATURAS\\INTELIGENCIA ARTIFICIAL\\TERCER PARCIAL\\ProyectoIA\\Dataset_Aumentado\\CevallosJoan\")\n",
    "#For para listar la ruta y cargar las imagenes\n",
    "for path in os.listdir():\n",
    "    img = load_img(f\"{path}\")\n",
    "    #Colocar array de las imgenes\n",
    "    x = img_to_array(img)    # this is a Numpy array with shape (3, 150, 150)\n",
    "    #remodelar las imagenes\n",
    "    x = x.reshape((1,) + x.shape)\n",
    "    i = 0\n",
    "    #For para agregar un lote en la imagen\n",
    "    for batch in datagen.flow(x, batch_size=1,\n",
    "        #Guardar en el directorio\n",
    "            save_to_dir=\".\", \n",
    "        #colocar prefijo de la clase\n",
    "            save_prefix= 'CevallosJoan', \n",
    "        #formato de guardado\n",
    "            save_format='jpg'):\n",
    "        #contador de imagenes\n",
    "        i += 1\n",
    "        #Contador del numero de imagenes\n",
    "        if i == 9:     ## creates 10 image form 1 image \n",
    "            break "
   ]
  },
  {
   "cell_type": "markdown",
   "id": "e15ef1eb",
   "metadata": {},
   "source": [
    "**CLASE RIVAS SELENA**"
   ]
  },
  {
   "cell_type": "code",
   "execution_count": 16,
   "id": "93a3b4d4",
   "metadata": {},
   "outputs": [],
   "source": [
    "os.chdir(r\"C:\\Users\\Usuario\\Documents\\SEXTO\\ASIGNATURAS\\INTELIGENCIA ARTIFICIAL\\TERCER PARCIAL\\ProyectoIA\\Dataset_Aumentado\\RivasSelena\")\n",
    "for path in os.listdir():\n",
    "    img = load_img(f\"{path}\")\n",
    "    x = img_to_array(img)    # this is a Numpy array with shape (3, 150, 150)\n",
    "    x = x.reshape((1,) + x.shape)\n",
    "    i = 0\n",
    "    for batch in datagen.flow(x, batch_size=1,\n",
    "            save_to_dir=\".\", \n",
    "            save_prefix= 'RivasSelena', \n",
    "            save_format='jpg'):\n",
    "        i += 1\n",
    "        if i == 9:     ## creates 10 image form 1 image \n",
    "            break "
   ]
  },
  {
   "cell_type": "markdown",
   "id": "b481ea6b",
   "metadata": {},
   "source": [
    "**CLASE JHON ZAMBRANO**"
   ]
  },
  {
   "cell_type": "code",
   "execution_count": 17,
   "id": "6c3f2f67",
   "metadata": {},
   "outputs": [],
   "source": [
    "os.chdir(r\"C:\\Users\\Usuario\\Documents\\SEXTO\\ASIGNATURAS\\INTELIGENCIA ARTIFICIAL\\TERCER PARCIAL\\ProyectoIA\\Dataset_Aumentado\\Jhon Zambrano\")\n",
    "for path in os.listdir():\n",
    "    img = load_img(f\"{path}\")\n",
    "    x = img_to_array(img)    # this is a Numpy array with shape (3, 150, 150)\n",
    "    x = x.reshape((1,) + x.shape)\n",
    "    i = 0\n",
    "    for batch in datagen.flow(x, batch_size=1,\n",
    "            save_to_dir=\".\", \n",
    "            save_prefix= 'Jhon Zambrano', \n",
    "            save_format='jpg'):\n",
    "        i += 1\n",
    "        if i == 9:     ## creates 10 image form 1 image \n",
    "            break "
   ]
  },
  {
   "cell_type": "markdown",
   "id": "7dfb236e",
   "metadata": {},
   "source": [
    "**CLASE LUCIO CARLOS**"
   ]
  },
  {
   "cell_type": "code",
   "execution_count": 18,
   "id": "a5df1ba7",
   "metadata": {},
   "outputs": [],
   "source": [
    "os.chdir(r\"C:\\Users\\Usuario\\Documents\\SEXTO\\ASIGNATURAS\\INTELIGENCIA ARTIFICIAL\\TERCER PARCIAL\\ProyectoIA\\Dataset_Aumentado\\LucioCarlos\")\n",
    "for path in os.listdir():\n",
    "    img = load_img(f\"{path}\")\n",
    "    x = img_to_array(img)    # this is a Numpy array with shape (3, 150, 150)\n",
    "    x = x.reshape((1,) + x.shape)\n",
    "    i = 0\n",
    "    for batch in datagen.flow(x, batch_size=1,\n",
    "            save_to_dir=\".\", \n",
    "            save_prefix= 'LucioCarlos', \n",
    "            save_format='jpg'):\n",
    "        i += 1\n",
    "        if i == 9:     ## creates 10 image form 1 image \n",
    "            break "
   ]
  },
  {
   "cell_type": "markdown",
   "id": "44694c3d",
   "metadata": {},
   "source": [
    "**CLASE OLALLA LUIS**"
   ]
  },
  {
   "cell_type": "code",
   "execution_count": 19,
   "id": "d87321e6",
   "metadata": {},
   "outputs": [],
   "source": [
    "os.chdir(r\"C:\\Users\\Usuario\\Documents\\SEXTO\\ASIGNATURAS\\INTELIGENCIA ARTIFICIAL\\TERCER PARCIAL\\ProyectoIA\\Dataset_Aumentado\\OlallaLuis\")\n",
    "for path in os.listdir():\n",
    "    img = load_img(f\"{path}\")\n",
    "    x = img_to_array(img)    # this is a Numpy array with shape (3, 150, 150)\n",
    "    x = x.reshape((1,) + x.shape)\n",
    "    i = 0\n",
    "    for batch in datagen.flow(x, batch_size=1,\n",
    "            save_to_dir=\".\", \n",
    "            save_prefix= 'OlallaLuis', \n",
    "            save_format='jpg'):\n",
    "        i += 1\n",
    "        if i == 9:     ## creates 10 image form 1 image \n",
    "            break "
   ]
  },
  {
   "cell_type": "markdown",
   "id": "2dedf6f6",
   "metadata": {},
   "source": [
    "# **Filtro NLM para eliminación de ruido de imagen**"
   ]
  },
  {
   "cell_type": "code",
   "execution_count": 20,
   "id": "dfdba974",
   "metadata": {},
   "outputs": [
    {
     "name": "stdout",
     "output_type": "stream",
     "text": [
      "['CevallosJoan', 'Jhon Zambrano', 'LucioCarlos', 'OlallaLuis', 'RivasSelena']\n"
     ]
    }
   ],
   "source": [
    "os.chdir(r\"C:\\Users\\Usuario\\Documents\\SEXTO\\ASIGNATURAS\\INTELIGENCIA ARTIFICIAL\\TERCER PARCIAL\\ProyectoIA\")\n",
    "images_path = \"./Dataset_Aumentado\"\n",
    "class_names = os.listdir(images_path)\n",
    "class_names.sort()\n",
    "print(class_names)"
   ]
  },
  {
   "cell_type": "code",
   "execution_count": 21,
   "id": "0d2713f1",
   "metadata": {},
   "outputs": [
    {
     "name": "stdout",
     "output_type": "stream",
     "text": [
      "Processing Image - 1 in CevallosJoan\n",
      "Processing Image - 2 in CevallosJoan\n",
      "Processing Image - 3 in CevallosJoan\n",
      "Processing Image - 4 in CevallosJoan\n",
      "Processing Image - 5 in CevallosJoan\n",
      "Processing Image - 6 in CevallosJoan\n",
      "Processing Image - 7 in CevallosJoan\n",
      "Processing Image - 8 in CevallosJoan\n",
      "Processing Image - 9 in CevallosJoan\n",
      "Processing Image - 10 in CevallosJoan\n",
      "Processing Image - 11 in CevallosJoan\n",
      "Processing Image - 12 in CevallosJoan\n",
      "Processing Image - 13 in CevallosJoan\n",
      "Processing Image - 14 in CevallosJoan\n",
      "Processing Image - 15 in CevallosJoan\n",
      "Processing Image - 16 in CevallosJoan\n",
      "Processing Image - 17 in CevallosJoan\n",
      "Processing Image - 18 in CevallosJoan\n",
      "Processing Image - 19 in CevallosJoan\n",
      "Processing Image - 20 in CevallosJoan\n",
      "Processing Image - 21 in CevallosJoan\n",
      "Processing Image - 22 in CevallosJoan\n",
      "Processing Image - 23 in CevallosJoan\n",
      "Processing Image - 24 in CevallosJoan\n",
      "Processing Image - 25 in CevallosJoan\n",
      "Processing Image - 26 in CevallosJoan\n",
      "Processing Image - 27 in CevallosJoan\n",
      "Processing Image - 28 in CevallosJoan\n",
      "Processing Image - 29 in CevallosJoan\n",
      "Processing Image - 30 in CevallosJoan\n",
      "Processing Image - 1 in Jhon Zambrano\n",
      "Processing Image - 2 in Jhon Zambrano\n",
      "Processing Image - 3 in Jhon Zambrano\n",
      "Processing Image - 4 in Jhon Zambrano\n",
      "Processing Image - 5 in Jhon Zambrano\n",
      "Processing Image - 6 in Jhon Zambrano\n",
      "Processing Image - 7 in Jhon Zambrano\n",
      "Processing Image - 8 in Jhon Zambrano\n",
      "Processing Image - 9 in Jhon Zambrano\n",
      "Processing Image - 10 in Jhon Zambrano\n",
      "Processing Image - 11 in Jhon Zambrano\n",
      "Processing Image - 12 in Jhon Zambrano\n",
      "Processing Image - 13 in Jhon Zambrano\n",
      "Processing Image - 14 in Jhon Zambrano\n",
      "Processing Image - 15 in Jhon Zambrano\n",
      "Processing Image - 16 in Jhon Zambrano\n",
      "Processing Image - 17 in Jhon Zambrano\n",
      "Processing Image - 18 in Jhon Zambrano\n",
      "Processing Image - 19 in Jhon Zambrano\n",
      "Processing Image - 20 in Jhon Zambrano\n",
      "Processing Image - 21 in Jhon Zambrano\n",
      "Processing Image - 22 in Jhon Zambrano\n",
      "Processing Image - 23 in Jhon Zambrano\n",
      "Processing Image - 24 in Jhon Zambrano\n",
      "Processing Image - 25 in Jhon Zambrano\n",
      "Processing Image - 26 in Jhon Zambrano\n",
      "Processing Image - 27 in Jhon Zambrano\n",
      "Processing Image - 28 in Jhon Zambrano\n",
      "Processing Image - 29 in Jhon Zambrano\n",
      "Processing Image - 1 in LucioCarlos\n",
      "Processing Image - 2 in LucioCarlos\n",
      "Processing Image - 3 in LucioCarlos\n",
      "Processing Image - 4 in LucioCarlos\n",
      "Processing Image - 5 in LucioCarlos\n",
      "Processing Image - 6 in LucioCarlos\n",
      "Processing Image - 7 in LucioCarlos\n",
      "Processing Image - 8 in LucioCarlos\n",
      "Processing Image - 9 in LucioCarlos\n",
      "Processing Image - 10 in LucioCarlos\n",
      "Processing Image - 11 in LucioCarlos\n",
      "Processing Image - 12 in LucioCarlos\n",
      "Processing Image - 13 in LucioCarlos\n",
      "Processing Image - 14 in LucioCarlos\n",
      "Processing Image - 15 in LucioCarlos\n",
      "Processing Image - 16 in LucioCarlos\n",
      "Processing Image - 17 in LucioCarlos\n",
      "Processing Image - 18 in LucioCarlos\n",
      "Processing Image - 19 in LucioCarlos\n",
      "Processing Image - 20 in LucioCarlos\n",
      "Processing Image - 21 in LucioCarlos\n",
      "Processing Image - 22 in LucioCarlos\n",
      "Processing Image - 23 in LucioCarlos\n",
      "Processing Image - 24 in LucioCarlos\n",
      "Processing Image - 25 in LucioCarlos\n",
      "Processing Image - 26 in LucioCarlos\n",
      "Processing Image - 27 in LucioCarlos\n",
      "Processing Image - 28 in LucioCarlos\n",
      "Processing Image - 29 in LucioCarlos\n",
      "Processing Image - 30 in LucioCarlos\n",
      "Processing Image - 1 in OlallaLuis\n",
      "Processing Image - 2 in OlallaLuis\n",
      "Processing Image - 3 in OlallaLuis\n",
      "Processing Image - 4 in OlallaLuis\n",
      "Processing Image - 5 in OlallaLuis\n",
      "Processing Image - 6 in OlallaLuis\n",
      "Processing Image - 7 in OlallaLuis\n",
      "Processing Image - 8 in OlallaLuis\n",
      "Processing Image - 9 in OlallaLuis\n",
      "Processing Image - 10 in OlallaLuis\n",
      "Processing Image - 11 in OlallaLuis\n",
      "Processing Image - 12 in OlallaLuis\n",
      "Processing Image - 13 in OlallaLuis\n",
      "Processing Image - 14 in OlallaLuis\n",
      "Processing Image - 15 in OlallaLuis\n",
      "Processing Image - 16 in OlallaLuis\n",
      "Processing Image - 17 in OlallaLuis\n",
      "Processing Image - 18 in OlallaLuis\n",
      "Processing Image - 19 in OlallaLuis\n",
      "Processing Image - 20 in OlallaLuis\n",
      "Processing Image - 21 in OlallaLuis\n",
      "Processing Image - 22 in OlallaLuis\n",
      "Processing Image - 23 in OlallaLuis\n",
      "Processing Image - 24 in OlallaLuis\n",
      "Processing Image - 25 in OlallaLuis\n",
      "Processing Image - 26 in OlallaLuis\n",
      "Processing Image - 27 in OlallaLuis\n",
      "Processing Image - 28 in OlallaLuis\n",
      "Processing Image - 29 in OlallaLuis\n",
      "Processing Image - 30 in OlallaLuis\n",
      "Processing Image - 1 in RivasSelena\n",
      "Processing Image - 2 in RivasSelena\n",
      "Processing Image - 3 in RivasSelena\n",
      "Processing Image - 4 in RivasSelena\n",
      "Processing Image - 5 in RivasSelena\n",
      "Processing Image - 6 in RivasSelena\n",
      "Processing Image - 7 in RivasSelena\n",
      "Processing Image - 8 in RivasSelena\n",
      "Processing Image - 9 in RivasSelena\n",
      "Processing Image - 10 in RivasSelena\n",
      "Processing Image - 11 in RivasSelena\n",
      "Processing Image - 12 in RivasSelena\n",
      "Processing Image - 13 in RivasSelena\n",
      "Processing Image - 14 in RivasSelena\n",
      "Processing Image - 15 in RivasSelena\n",
      "Processing Image - 16 in RivasSelena\n",
      "Processing Image - 17 in RivasSelena\n",
      "Processing Image - 18 in RivasSelena\n",
      "Processing Image - 19 in RivasSelena\n",
      "Processing Image - 20 in RivasSelena\n",
      "Processing Image - 21 in RivasSelena\n",
      "Processing Image - 22 in RivasSelena\n",
      "Processing Image - 23 in RivasSelena\n",
      "Processing Image - 24 in RivasSelena\n",
      "Processing Image - 25 in RivasSelena\n",
      "Processing Image - 26 in RivasSelena\n",
      "Processing Image - 27 in RivasSelena\n",
      "Processing Image - 28 in RivasSelena\n",
      "Processing Image - 29 in RivasSelena\n",
      "Processing Image - 30 in RivasSelena\n"
     ]
    }
   ],
   "source": [
    "for class_name in class_names:\n",
    "    cur_path = images_path + \"/\" + class_name\n",
    "    cur_label = class_name\n",
    "    i = 1\n",
    "\n",
    "    for file in glob.glob(cur_path + \"/*\"):\n",
    "        print(\"Processing Image - {} in {}\".format(i, cur_label))\n",
    "        # read the images path\n",
    "        image = cv2.imread(file)\n",
    "        # denoising images\n",
    "        dst = cv2.fastNlMeansDenoisingColored(image,None,10,10,7,21)\n",
    "        b,g,r = cv2.split(dst)\n",
    "        rgb_dst = cv2.merge([r,g,b])\n",
    "        # save images\n",
    "        save_path = './Dataset_Aumentado_SinRuido/'+ cur_label\n",
    "        cv2.imwrite(os.path.join(save_path , cur_label + '_' + str(i) + '.jpg'),\n",
    "                    cv2.cvtColor(rgb_dst,cv2.COLOR_RGB2BGR))\n",
    "        \n",
    "\n",
    "        # show loop update\n",
    "        i += 1"
   ]
  },
  {
   "cell_type": "markdown",
   "id": "93c30410",
   "metadata": {
    "id": "93c30410"
   },
   "source": [
    "## Descripción de la fuente del Dataset"
   ]
  },
  {
   "cell_type": "markdown",
   "id": "db6174bc",
   "metadata": {
    "id": "db6174bc"
   },
   "source": [
    "Haga una descripción de la fuente de dayos utilizada (Incluya los enlaces necesarios)."
   ]
  },
  {
   "cell_type": "markdown",
   "id": "7f868eab",
   "metadata": {
    "id": "7f868eab"
   },
   "source": [
    "## Explique el problema a resolver. \n",
    "Descripción del problema. Tipo de problema (justifique). Variable objetivo, variables de entrada. Utilidad de su posible solución. Elementos adicionales que considere relevantes (no son necesarios contenidos teóricos, sino explicar qué relaciones tratas de comprobar y con qué métodos)."
   ]
  },
  {
   "cell_type": "markdown",
   "id": "a0b719c1",
   "metadata": {
    "id": "a0b719c1"
   },
   "source": [
    "## Caracterización del Dataset\n",
    "\n",
    "Realice una descripción de los datos con:\n",
    "\n",
    ">- Número de instancias en total.\n",
    ">- Número de atributos de entrada, su significado y tipo.\n",
    ">- Estadísticas de la variable objetivo.\n",
    ">- Estadísticas los atributos en relación con la variable objetivo.\n"
   ]
  },
  {
   "cell_type": "code",
   "execution_count": null,
   "id": "2f0ed5d2",
   "metadata": {
    "id": "2f0ed5d2"
   },
   "outputs": [],
   "source": [
    "#Código que responde a la descripción anterior"
   ]
  },
  {
   "cell_type": "markdown",
   "id": "a7ab5e48",
   "metadata": {
    "id": "a7ab5e48"
   },
   "source": [
    "En un par de párrafos haga un resumen de los principales hallazagos encontrados:    "
   ]
  },
  {
   "cell_type": "markdown",
   "id": "0a19e6af",
   "metadata": {
    "id": "0a19e6af"
   },
   "source": [
    "## Preprocesamiento del dataset. Transformaciones previas necesarias para la modelación"
   ]
  },
  {
   "cell_type": "code",
   "execution_count": null,
   "id": "5a24dac4",
   "metadata": {
    "id": "5a24dac4"
   },
   "outputs": [],
   "source": [
    "#Transformación de las caracteristicas (mire el apartado Feature engineering del aula virtual)\n"
   ]
  },
  {
   "cell_type": "markdown",
   "id": "49815fde",
   "metadata": {
    "ExecuteTime": {
     "end_time": "2022-03-14T15:56:34.366469Z",
     "start_time": "2022-03-14T15:56:34.358471Z"
    },
    "id": "49815fde"
   },
   "source": [
    "## División del dataset en datos de entrenamiento y datos de test "
   ]
  },
  {
   "cell_type": "code",
   "execution_count": null,
   "id": "6f26d21e",
   "metadata": {
    "id": "6f26d21e"
   },
   "outputs": [],
   "source": [
    "#Código que realice la división en entrenamiento y test, de acuerdo con la estretgia de evaluación planeada. Describa cuál es.\n"
   ]
  },
  {
   "cell_type": "markdown",
   "id": "6319adad",
   "metadata": {
    "id": "6319adad"
   },
   "source": [
    "## Modelamiento"
   ]
  },
  {
   "cell_type": "code",
   "execution_count": null,
   "id": "d5d2b2c6",
   "metadata": {
    "id": "d5d2b2c6"
   },
   "outputs": [],
   "source": [
    "#Códo del modelo"
   ]
  },
  {
   "cell_type": "code",
   "execution_count": null,
   "id": "33f5be2a",
   "metadata": {
    "ExecuteTime": {
     "end_time": "2022-04-25T07:21:39.020596Z",
     "start_time": "2022-04-25T07:21:39.005596Z"
    },
    "id": "33f5be2a"
   },
   "outputs": [],
   "source": [
    "#Entrenamiento"
   ]
  },
  {
   "cell_type": "code",
   "execution_count": null,
   "id": "a2e675b3",
   "metadata": {
    "id": "a2e675b3"
   },
   "outputs": [],
   "source": [
    "#Test"
   ]
  },
  {
   "cell_type": "markdown",
   "id": "9c2239f5",
   "metadata": {
    "id": "9c2239f5"
   },
   "source": [
    "## Evaluación del Modelo"
   ]
  },
  {
   "cell_type": "markdown",
   "id": "ad219a0c",
   "metadata": {
    "id": "ad219a0c"
   },
   "source": [
    "Construya un o dos párrafos con los principales hallazgos. Cómo está funcionando el modelo? Calidad en los resultados de predicción. "
   ]
  },
  {
   "cell_type": "code",
   "execution_count": null,
   "id": "28b14a2f",
   "metadata": {
    "id": "28b14a2f"
   },
   "outputs": [],
   "source": []
  }
 ],
 "metadata": {
  "colab": {
   "name": "NotebookBase_ProgramaciónIA.ipynb",
   "provenance": []
  },
  "kernelspec": {
   "display_name": "Python 3 (ipykernel)",
   "language": "python",
   "name": "python3"
  },
  "language_info": {
   "codemirror_mode": {
    "name": "ipython",
    "version": 3
   },
   "file_extension": ".py",
   "mimetype": "text/x-python",
   "name": "python",
   "nbconvert_exporter": "python",
   "pygments_lexer": "ipython3",
   "version": "3.9.12"
  },
  "toc": {
   "base_numbering": 1,
   "nav_menu": {},
   "number_sections": true,
   "sideBar": true,
   "skip_h1_title": true,
   "title_cell": "Tabla de Contenido",
   "title_sidebar": "Contenido",
   "toc_cell": false,
   "toc_position": {
    "height": "calc(100% - 180px)",
    "left": "10px",
    "top": "150px",
    "width": "263.591px"
   },
   "toc_section_display": true,
   "toc_window_display": true
  }
 },
 "nbformat": 4,
 "nbformat_minor": 5
}
