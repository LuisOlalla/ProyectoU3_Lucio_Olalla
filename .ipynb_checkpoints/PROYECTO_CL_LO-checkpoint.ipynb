{
 "cells": [
  {
   "cell_type": "code",
   "execution_count": 1,
   "id": "1f0dc443",
   "metadata": {},
   "outputs": [],
   "source": [
    "import cv2\n",
    "import numpy as np\n",
    "import os\n",
    "os.environ['TF_CPP_MIN_LOG_LEVEL'] = '3' \n",
    "import shutil\n",
    "import glob\n",
    "import pandas as pd\n",
    "import matplotlib.pyplot as plt\n",
    "import seaborn as sn\n",
    "from tensorflow.keras.utils import img_to_array,  array_to_img, img_to_array, load_img\n",
    "from keras.preprocessing.image import ImageDataGenerator\n",
    "from  PIL  import Image\n",
    "from rembg import remove\n",
    "from sklearn.preprocessing import MinMaxScaler\n",
    "import h5py\n",
    "from time import sleep"
   ]
  },
  {
   "cell_type": "code",
   "execution_count": 2,
   "id": "4be94da5",
   "metadata": {},
   "outputs": [
    {
     "name": "stdout",
     "output_type": "stream",
     "text": [
      "['CevallosJoan', 'GenesisHeredia', 'Jhon Zambrano', 'LucioCarlos', 'OlallaLuis']\n"
     ]
    }
   ],
   "source": [
    "images_path = \"./Dataset\"\n",
    "class_names = os.listdir(images_path)\n",
    "class_names.sort()\n",
    "print(class_names)"
   ]
  },
  {
   "cell_type": "code",
   "execution_count": 3,
   "id": "c138f796",
   "metadata": {},
   "outputs": [
    {
     "name": "stdout",
     "output_type": "stream",
     "text": [
      "Copying Image - L00376416_1.jpg in Dataset/CevallosJoan\n",
      "Copying Image - L00376416_2.jpg in Dataset/CevallosJoan\n",
      "Copying Image - L00376416_3.jpg in Dataset/CevallosJoan\n",
      "Copying Image - L00392991_1.jpg in Dataset/GenesisHeredia\n",
      "Copying Image - L00392991_2.jpg in Dataset/GenesisHeredia\n",
      "Copying Image - L00392991_3.jpg in Dataset/GenesisHeredia\n",
      "Copying Image - L00392993_Centro.jpg in Dataset/Jhon Zambrano\n",
      "Copying Image - L00392993_LD.jpg in Dataset/Jhon Zambrano\n",
      "Copying Image - L00392993_LI.jpg in Dataset/Jhon Zambrano\n",
      "Copying Image - L00393009_1.jpg in Dataset/LucioCarlos\n",
      "Copying Image - L00393009_2.jpg in Dataset/LucioCarlos\n",
      "Copying Image - L00393009_3.jpg in Dataset/LucioCarlos\n",
      "Copying Image - L00393001_1.jpg in Dataset/OlallaLuis\n",
      "Copying Image - L00393001_2.jpg in Dataset/OlallaLuis\n",
      "Copying Image - L00393001_3.jpg in Dataset/OlallaLuis\n"
     ]
    }
   ],
   "source": [
    "for class_name in class_names:\n",
    "    cur_path = images_path + \"/\" + class_name\n",
    "    elements = os.listdir(cur_path)\n",
    "    \n",
    "    for element in elements:\n",
    "        print(\"Copying Image - {} in Dataset/{}\".format(element, class_name))\n",
    "        src = os.path.join(images_path + \"/\" + class_name, element) # origen\n",
    "        dst = os.path.join(\"./Dataset_Aumentado/\" + class_name, element) \n",
    "        shutil.copy(src, dst)"
   ]
  },
  {
   "cell_type": "code",
   "execution_count": 4,
   "id": "a9b9e9a3",
   "metadata": {},
   "outputs": [],
   "source": [
    "datagen = ImageDataGenerator(\n",
    "        rotation_range=40,\n",
    "        width_shift_range=0.2,\n",
    "        height_shift_range=0.2,\n",
    "        rescale=1./255,\n",
    "        shear_range=0.2,\n",
    "        zoom_range=0.4,\n",
    "        horizontal_flip=True,\n",
    "        fill_mode='nearest')"
   ]
  },
  {
   "cell_type": "markdown",
   "id": "01633b47",
   "metadata": {},
   "source": [
    "**CLASE CEVALLOS JOAN**"
   ]
  },
  {
   "cell_type": "code",
   "execution_count": 20,
   "id": "d2635fe9",
   "metadata": {},
   "outputs": [],
   "source": [
    "os.chdir(r\"C:\\Users\\Usuario\\Documents\\SEXTO\\ASIGNATURAS\\INTELIGENCIA ARTIFICIAL\\TERCER PARCIAL\\FOTOS_LAB\\Dataset_Aumentado\\CevallosJoan\")\n",
    "for path in os.listdir():\n",
    "    img = load_img(f\"{path}\")\n",
    "    x = img_to_array(img)    # this is a Numpy array with shape (3, 150, 150)\n",
    "    x = x.reshape((1,) + x.shape)\n",
    "    i = 0\n",
    "    for batch in datagen.flow(x, batch_size=1,\n",
    "            save_to_dir=\".\", \n",
    "            save_prefix= 'CevallosJoan', \n",
    "            save_format='jpg'):\n",
    "        i += 1\n",
    "        if i == 1:     ## creates 10 image form 1 image \n",
    "            break "
   ]
  },
  {
   "cell_type": "markdown",
   "id": "b1c297b5",
   "metadata": {},
   "source": [
    "**CLASE HEREDIA GENESIS**"
   ]
  },
  {
   "cell_type": "code",
   "execution_count": 7,
   "id": "6a2262d6",
   "metadata": {},
   "outputs": [],
   "source": [
    "os.chdir(r\"C:\\Users\\Usuario\\Documents\\SEXTO\\ASIGNATURAS\\INTELIGENCIA ARTIFICIAL\\TERCER PARCIAL\\FOTOS_LAB\\Dataset_Aumentado\\GenesisHeredia\")\n",
    "for path in os.listdir():\n",
    "    img = load_img(f\"{path}\")\n",
    "    x = img_to_array(img)    # this is a Numpy array with shape (3, 150, 150)\n",
    "    x = x.reshape((1,) + x.shape)\n",
    "    i = 0\n",
    "    for batch in datagen.flow(x, batch_size=1,\n",
    "            save_to_dir=\".\", \n",
    "            save_prefix= 'GenesisHeredia', \n",
    "            save_format='jpg'):\n",
    "        i += 1\n",
    "        if i == 1:     ## creates 10 image form 1 image \n",
    "            break "
   ]
  },
  {
   "cell_type": "markdown",
   "id": "e281f386",
   "metadata": {},
   "source": [
    "**CLASE JHON ZAMBRANO**"
   ]
  },
  {
   "cell_type": "code",
   "execution_count": 8,
   "id": "a00b36f5",
   "metadata": {},
   "outputs": [],
   "source": [
    "os.chdir(r\"C:\\Users\\Usuario\\Documents\\SEXTO\\ASIGNATURAS\\INTELIGENCIA ARTIFICIAL\\TERCER PARCIAL\\FOTOS_LAB\\Dataset_Aumentado\\Jhon Zambrano\")\n",
    "for path in os.listdir():\n",
    "    img = load_img(f\"{path}\")\n",
    "    x = img_to_array(img)    # this is a Numpy array with shape (3, 150, 150)\n",
    "    x = x.reshape((1,) + x.shape)\n",
    "    i = 0\n",
    "    for batch in datagen.flow(x, batch_size=1,\n",
    "            save_to_dir=\".\", \n",
    "            save_prefix= 'Jhon Zambrano', \n",
    "            save_format='jpg'):\n",
    "        i += 1\n",
    "        if i == 1:     ## creates 10 image form 1 image \n",
    "            break "
   ]
  },
  {
   "cell_type": "markdown",
   "id": "1264336e",
   "metadata": {},
   "source": [
    "**CLASE LUCIO CARLOS**"
   ]
  },
  {
   "cell_type": "code",
   "execution_count": 9,
   "id": "e53457c4",
   "metadata": {},
   "outputs": [],
   "source": [
    "os.chdir(r\"C:\\Users\\Usuario\\Documents\\SEXTO\\ASIGNATURAS\\INTELIGENCIA ARTIFICIAL\\TERCER PARCIAL\\FOTOS_LAB\\Dataset_Aumentado\\LucioCarlos\")\n",
    "for path in os.listdir():\n",
    "    img = load_img(f\"{path}\")\n",
    "    x = img_to_array(img)    # this is a Numpy array with shape (3, 150, 150)\n",
    "    x = x.reshape((1,) + x.shape)\n",
    "    i = 0\n",
    "    for batch in datagen.flow(x, batch_size=1,\n",
    "            save_to_dir=\".\", \n",
    "            save_prefix= 'LucioCarlos', \n",
    "            save_format='jpg'):\n",
    "        i += 1\n",
    "        if i == 1:     ## creates 10 image form 1 image \n",
    "            break "
   ]
  },
  {
   "cell_type": "markdown",
   "id": "42c43566",
   "metadata": {},
   "source": [
    "**CLASE OLALLA LUIS**"
   ]
  },
  {
   "cell_type": "code",
   "execution_count": 15,
   "id": "11fb46be",
   "metadata": {},
   "outputs": [],
   "source": [
    "os.chdir(r\"C:\\Users\\Usuario\\Documents\\SEXTO\\ASIGNATURAS\\INTELIGENCIA ARTIFICIAL\\TERCER PARCIAL\\FOTOS_LAB\\Dataset_Aumentado\\OlallaLuis\")\n",
    "for path in os.listdir():\n",
    "    img = load_img(f\"{path}\")\n",
    "    x = img_to_array(img)    # this is a Numpy array with shape (3, 150, 150)\n",
    "    x = x.reshape((1,) + x.shape)\n",
    "    i = 0\n",
    "    for batch in datagen.flow(x, batch_size=1,\n",
    "            save_to_dir=\".\", \n",
    "            save_prefix= 'OlallaLuis', \n",
    "            save_format='jpg'):\n",
    "        i += 1\n",
    "        if i == 1:     ## creates 10 image form 1 image \n",
    "            break "
   ]
  },
  {
   "cell_type": "markdown",
   "id": "69630db0",
   "metadata": {},
   "source": [
    "# **Filtro NLM para eliminación de ruido de imagen**"
   ]
  },
  {
   "cell_type": "code",
   "execution_count": 16,
   "id": "6b0cf793",
   "metadata": {},
   "outputs": [
    {
     "name": "stdout",
     "output_type": "stream",
     "text": [
      "['CevallosJoan', 'GenesisHeredia', 'Jhon Zambrano', 'LucioCarlos', 'OlallaLuis']\n"
     ]
    }
   ],
   "source": [
    "os.chdir(r\"C:\\Users\\Usuario\\Documents\\SEXTO\\ASIGNATURAS\\INTELIGENCIA ARTIFICIAL\\TERCER PARCIAL\\FOTOS_LAB\")\n",
    "images_path = \"./Dataset_Aumentado\"\n",
    "class_names = os.listdir(images_path)\n",
    "class_names.sort()\n",
    "print(class_names)"
   ]
  },
  {
   "cell_type": "code",
   "execution_count": 17,
   "id": "41398179",
   "metadata": {
    "scrolled": true
   },
   "outputs": [
    {
     "name": "stdout",
     "output_type": "stream",
     "text": [
      "Processing Image - 1 in CevallosJoan\n",
      "Processing Image - 2 in CevallosJoan\n",
      "Processing Image - 3 in CevallosJoan\n",
      "Processing Image - 4 in CevallosJoan\n",
      "Processing Image - 5 in CevallosJoan\n",
      "Processing Image - 6 in CevallosJoan\n",
      "Processing Image - 1 in GenesisHeredia\n",
      "Processing Image - 2 in GenesisHeredia\n",
      "Processing Image - 3 in GenesisHeredia\n",
      "Processing Image - 4 in GenesisHeredia\n",
      "Processing Image - 5 in GenesisHeredia\n",
      "Processing Image - 6 in GenesisHeredia\n",
      "Processing Image - 1 in Jhon Zambrano\n",
      "Processing Image - 2 in Jhon Zambrano\n",
      "Processing Image - 3 in Jhon Zambrano\n",
      "Processing Image - 4 in Jhon Zambrano\n",
      "Processing Image - 5 in Jhon Zambrano\n",
      "Processing Image - 6 in Jhon Zambrano\n",
      "Processing Image - 1 in LucioCarlos\n",
      "Processing Image - 2 in LucioCarlos\n",
      "Processing Image - 3 in LucioCarlos\n",
      "Processing Image - 4 in LucioCarlos\n",
      "Processing Image - 5 in LucioCarlos\n",
      "Processing Image - 6 in LucioCarlos\n",
      "Processing Image - 1 in OlallaLuis\n",
      "Processing Image - 2 in OlallaLuis\n",
      "Processing Image - 3 in OlallaLuis\n",
      "Processing Image - 4 in OlallaLuis\n",
      "Processing Image - 5 in OlallaLuis\n",
      "Processing Image - 6 in OlallaLuis\n"
     ]
    }
   ],
   "source": [
    "for class_name in class_names:\n",
    "    cur_path = images_path + \"/\" + class_name\n",
    "    cur_label = class_name\n",
    "    i = 1\n",
    "\n",
    "    for file in glob.glob(cur_path + \"/*\"):\n",
    "        print(\"Processing Image - {} in {}\".format(i, cur_label))\n",
    "        # read the images path\n",
    "        image = cv2.imread(file)\n",
    "        # denoising images\n",
    "        dst = cv2.fastNlMeansDenoisingColored(image,None,10,10,7,21)\n",
    "        b,g,r = cv2.split(dst)\n",
    "        rgb_dst = cv2.merge([r,g,b])\n",
    "        # save images\n",
    "        save_path = './Dataset_Aumentado_SinRuido/'+ cur_label\n",
    "        cv2.imwrite(os.path.join(save_path , cur_label + '_' + str(i) + '.jpg'),\n",
    "                    cv2.cvtColor(rgb_dst,cv2.COLOR_RGB2BGR))\n",
    "        \n",
    "\n",
    "        # show loop update\n",
    "        i += 1"
   ]
  },
  {
   "cell_type": "markdown",
   "id": "51cf505d",
   "metadata": {},
   "source": [
    "# **Eliminación de fondo**"
   ]
  },
  {
   "cell_type": "code",
   "execution_count": 18,
   "id": "369ace3a",
   "metadata": {},
   "outputs": [
    {
     "name": "stdout",
     "output_type": "stream",
     "text": [
      "['CevallosJoan', 'GenesisHeredia', 'Jhon Zambrano', 'LucioCarlos', 'OlallaLuis']\n"
     ]
    }
   ],
   "source": [
    "images_path = \"./Dataset_Aumentado_SinRuido\"\n",
    "class_names = os.listdir(images_path)\n",
    "class_names.sort()\n",
    "print(class_names)"
   ]
  },
  {
   "cell_type": "code",
   "execution_count": 19,
   "id": "def54f92",
   "metadata": {},
   "outputs": [
    {
     "name": "stdout",
     "output_type": "stream",
     "text": [
      "Processing Image - 1 in CevallosJoan\n",
      "Processing Image - 2 in CevallosJoan\n",
      "Processing Image - 3 in CevallosJoan\n",
      "Processing Image - 4 in CevallosJoan\n",
      "Processing Image - 5 in CevallosJoan\n",
      "Processing Image - 6 in CevallosJoan\n",
      "Processing Image - 1 in GenesisHeredia\n",
      "Processing Image - 2 in GenesisHeredia\n",
      "Processing Image - 3 in GenesisHeredia\n",
      "Processing Image - 4 in GenesisHeredia\n",
      "Processing Image - 5 in GenesisHeredia\n",
      "Processing Image - 6 in GenesisHeredia\n",
      "Processing Image - 1 in Jhon Zambrano\n",
      "Processing Image - 2 in Jhon Zambrano\n",
      "Processing Image - 3 in Jhon Zambrano\n",
      "Processing Image - 4 in Jhon Zambrano\n",
      "Processing Image - 5 in Jhon Zambrano\n",
      "Processing Image - 6 in Jhon Zambrano\n",
      "Processing Image - 1 in LucioCarlos\n",
      "Processing Image - 2 in LucioCarlos\n",
      "Processing Image - 3 in LucioCarlos\n",
      "Processing Image - 4 in LucioCarlos\n",
      "Processing Image - 5 in LucioCarlos\n",
      "Processing Image - 6 in LucioCarlos\n",
      "Processing Image - 1 in OlallaLuis\n",
      "Processing Image - 2 in OlallaLuis\n",
      "Processing Image - 3 in OlallaLuis\n",
      "Processing Image - 4 in OlallaLuis\n",
      "Processing Image - 5 in OlallaLuis\n",
      "Processing Image - 6 in OlallaLuis\n"
     ]
    }
   ],
   "source": [
    "for class_name in class_names:\n",
    "    cur_path = images_path + \"/\" + class_name\n",
    "    cur_label = class_name\n",
    "    i = 1\n",
    "\n",
    "    for file in glob.glob(cur_path + \"/*\"):\n",
    "        print(\"Processing Image - {} in {}\".format(i, cur_label))\n",
    "        # read the images path\n",
    "        image = cv2.imread(file)\n",
    "        # remove bg \n",
    "        output = remove(image)\n",
    "        # save images\n",
    "        save_path = './Dataset_Aumentado_SinFondo/'+ cur_label\n",
    "        cv2.imwrite(os.path.join(save_path , cur_label + '_' + str(i) + '.png'), output)\n",
    "        \n",
    "\n",
    "        # show loop update\n",
    "        i += 1"
   ]
  },
  {
   "cell_type": "code",
   "execution_count": null,
   "id": "e61c69fa",
   "metadata": {},
   "outputs": [],
   "source": []
  }
 ],
 "metadata": {
  "kernelspec": {
   "display_name": "Python 3 (ipykernel)",
   "language": "python",
   "name": "python3"
  },
  "language_info": {
   "codemirror_mode": {
    "name": "ipython",
    "version": 3
   },
   "file_extension": ".py",
   "mimetype": "text/x-python",
   "name": "python",
   "nbconvert_exporter": "python",
   "pygments_lexer": "ipython3",
   "version": "3.9.12"
  }
 },
 "nbformat": 4,
 "nbformat_minor": 5
}
